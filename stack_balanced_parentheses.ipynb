{
 "nbformat": 4,
 "nbformat_minor": 0,
 "metadata": {
  "colab": {
   "provenance": []
  },
  "kernelspec": {
   "name": "python3",
   "display_name": "Python 3"
  },
  "language_info": {
   "name": "python"
  }
 },
 "cells": [
  {
   "cell_type": "code",
   "metadata": {
    "id": "2SWq1L65z9sc",
    "jupyter": {
     "is_executing": true
    }
   },
   "source": [
    "# Without Using Mapping Function\n",
    "\n",
    "def is_balanced_parentheses(s):\n",
    "    stack = []\n",
    "    for char in s:\n",
    "        if char == '(':\n",
    "            stack.append(char)\n",
    "        elif char == ')':\n",
    "            if not stack:\n",
    "                return False\n",
    "            stack.pop()\n",
    "    return len(stack) == 0"
   ],
   "outputs": [],
   "execution_count": null
  },
  {
   "cell_type": "code",
   "source": [
    "print(is_balanced_parentheses(\"((()))\"))"
   ],
   "metadata": {
    "colab": {
     "base_uri": "https://localhost:8080/"
    },
    "id": "nbxxxjBd0E7A",
    "outputId": "84452856-191e-42c5-bb51-eee9b11186fa"
   },
   "execution_count": 2,
   "outputs": [
    {
     "output_type": "stream",
     "name": "stdout",
     "text": [
      "True\n"
     ]
    }
   ]
  },
  {
   "cell_type": "code",
   "source": [
    "print(is_balanced_parentheses(\"(()\"))"
   ],
   "metadata": {
    "colab": {
     "base_uri": "https://localhost:8080/"
    },
    "id": "XPaHh6Yw0Iir",
    "outputId": "61cf2a0c-47b1-4218-ea84-138416e5b897"
   },
   "execution_count": 3,
   "outputs": [
    {
     "output_type": "stream",
     "name": "stdout",
     "text": [
      "False\n"
     ]
    }
   ]
  },
  {
   "cell_type": "code",
   "source": [
    "print(is_balanced_parentheses(\"())\"))"
   ],
   "metadata": {
    "colab": {
     "base_uri": "https://localhost:8080/"
    },
    "id": "k2DqNafn0JxE",
    "outputId": "99745401-406f-4394-eb2d-6b2794488559"
   },
   "execution_count": 4,
   "outputs": [
    {
     "output_type": "stream",
     "name": "stdout",
     "text": [
      "False\n"
     ]
    }
   ]
  },
  {
   "cell_type": "code",
   "source": [
    "def is_balanced(s):\n",
    "    stack = []\n",
    "    mapping = {')': '(', '}': '{', ']': '['}\n",
    "    for char in s:\n",
    "        if char in mapping.values():\n",
    "            stack.append(char)\n",
    "        elif char in mapping.keys():\n",
    "            if stack == [] or mapping[char] != stack.pop():\n",
    "                return False\n",
    "    return stack == []"
   ],
   "metadata": {
    "id": "Zw0UiJBM0lkr"
   },
   "execution_count": 7,
   "outputs": []
  },
  {
   "cell_type": "code",
   "source": [
    "print(is_balanced(\"{{([][])}()}\"))"
   ],
   "metadata": {
    "colab": {
     "base_uri": "https://localhost:8080/"
    },
    "id": "jq9J2UsX002Y",
    "outputId": "f02f73eb-9947-4907-df33-659eff415b33"
   },
   "execution_count": 8,
   "outputs": [
    {
     "output_type": "stream",
     "name": "stdout",
     "text": [
      "True\n"
     ]
    }
   ]
  },
  {
   "cell_type": "code",
   "source": [
    "print(is_balanced(\"{{([][])}()}}{}{{}}}}}}]]]\"))"
   ],
   "metadata": {
    "colab": {
     "base_uri": "https://localhost:8080/"
    },
    "id": "EJLYRlrh04uH",
    "outputId": "14dd3f9b-322f-420c-ea18-801493a77fcd"
   },
   "execution_count": 9,
   "outputs": [
    {
     "output_type": "stream",
     "name": "stdout",
     "text": [
      "False\n"
     ]
    }
   ]
  }
 ]
}
